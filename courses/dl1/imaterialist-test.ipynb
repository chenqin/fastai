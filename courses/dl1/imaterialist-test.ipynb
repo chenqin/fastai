{
 "cells": [
  {
   "cell_type": "code",
   "execution_count": null,
   "metadata": {},
   "outputs": [],
   "source": [
    "%reload_ext autoreload\n",
    "%autoreload 2\n",
    "%matplotlib inline"
   ]
  },
  {
   "cell_type": "code",
   "execution_count": null,
   "metadata": {},
   "outputs": [],
   "source": [
    "from fastai.imports import *\n",
    "from fastai.conv_learner import *\n",
    "from fastai.transforms import *\n",
    "from fastai.conv_learner import *\n",
    "from fastai.model import *\n",
    "from fastai.dataset import *\n",
    "from fastai.sgdr import *\n",
    "from fastai.plots import *"
   ]
  },
  {
   "cell_type": "code",
   "execution_count": null,
   "metadata": {},
   "outputs": [],
   "source": [
    "import csv\n",
    "import json\n",
    "from shutil import copyfile\n",
    "from random import *\n",
    "\n",
    "PATH = 'data/imaterialist/'\n",
    "arch = resnet34\n",
    "sz=256\n",
    "\n",
    "img_dict = {}\n",
    "json_data=open(f'{PATH}test.json').read()\n",
    "data = json.loads(json_data)[\"images\"]\n",
    "for node in data:\n",
    "    img_dict[node['image_id']] = str(node['url'])\n",
    "\n",
    "tests = os.listdir(f'{PATH}test')\n",
    "\n",
    "for file in tests:\n",
    "    del img_dict[int(file.split('.')[0])]\n",
    "\n",
    "print(len(img_dict))\n",
    "\n",
    "# use random image if certain tests not exist\n",
    "for k,v in img_dict.items():\n",
    "    #DownloadImage (k,v)\n",
    "    copyfile(f'{PATH}test/'+tests[random(0,len(tests)-1)], f'{PATH}test/'+str(k)+'.jpg')\n",
    "    \n",
    "print (len(os.listdir(f'{PATH}test')))\n",
    "\n",
    "label_csv = f'{PATH}train_v2.csv'\n",
    "n = len(list(open(label_csv)))-1\n",
    "val_idxs = get_cv_idxs(n)\n",
    "\n",
    "def get_data(sz):\n",
    "    tfms = tfms_from_model(arch, sz, aug_tfms=transforms_basic, max_zoom=1.3)\n",
    "    return ImageClassifierData.from_csv(PATH, 'train', label_csv, tfms=tfms,\n",
    "                    suffix='.jpg', val_idxs=val_idxs, test_name='test')\n",
    "\n",
    "data = get_data(sz)\n",
    "learn = ConvLearner.pretrained(arch, data)\n",
    "learn.load(f'{34}{sz}-2')"
   ]
  },
  {
   "cell_type": "code",
   "execution_count": null,
   "metadata": {},
   "outputs": [],
   "source": [
    "log_preds,y = learn.TTA()\n",
    "print (data.test_ds.fnames[1], y[1])\n",
    "print (len(data.test_ds.fnames))\n",
    "import csv\n",
    "\n",
    "def export_test_result(files, y):\n",
    "    with open(f'{PATH}submission.csv', 'w') as csvfile:\n",
    "        fieldnames = ['id','predicted']\n",
    "        writer = csv.DictWriter(csvfile, fieldnames=fieldnames)\n",
    "        writer.writeheader()\n",
    "        for idx, file in enumerate(files):\n",
    "            try:\n",
    "                writer.writerow({'id': file.split('/')[1].split('.')[0], 'predicted': y[idx]})\n",
    "                del img_dict[file.split('/')[1].split('.')[0]]\n",
    "            except Exception as ex:\n",
    "                print (ex)\n",
    "\n",
    "export_test_result(data.test_ds.fnames, y)"
   ]
  }
 ],
 "metadata": {
  "kernelspec": {
   "display_name": "Python 3",
   "language": "python",
   "name": "python3"
  },
  "language_info": {
   "codemirror_mode": {
    "name": "ipython",
    "version": 3
   },
   "file_extension": ".py",
   "mimetype": "text/x-python",
   "name": "python",
   "nbconvert_exporter": "python",
   "pygments_lexer": "ipython3",
   "version": "3.6.4"
  }
 },
 "nbformat": 4,
 "nbformat_minor": 2
}
